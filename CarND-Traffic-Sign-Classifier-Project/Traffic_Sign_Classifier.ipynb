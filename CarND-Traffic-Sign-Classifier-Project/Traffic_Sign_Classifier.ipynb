{
 "cells": [
  {
   "cell_type": "markdown",
   "metadata": {},
   "source": [
    "# Self-Driving Car Engineer Nanodegree\n",
    "\n",
    "## Deep Learning\n",
    "\n",
    "## Project: Build a Traffic Sign Recognition Classifier\n",
    "\n",
    "In this notebook, a template is provided for you to implement your functionality in stages, which is required to successfully complete this project. If additional code is required that cannot be included in the notebook, be sure that the Python code is successfully imported and included in your submission if necessary. \n",
    "\n",
    "> **Note**: Once you have completed all of the code implementations, you need to finalize your work by exporting the iPython Notebook as an HTML document. Before exporting the notebook to html, all of the code cells need to have been run so that reviewers can see the final implementation and output. You can then export the notebook by using the menu above and navigating to  \\n\",\n",
    "    \"**File -> Download as -> HTML (.html)**. Include the finished document along with this notebook as your submission. \n",
    "\n",
    "In addition to implementing code, there is a writeup to complete. The writeup should be completed in a separate file, which can be either a markdown file or a pdf document. There is a [write up template](https://github.com/udacity/CarND-Traffic-Sign-Classifier-Project/blob/master/writeup_template.md) that can be used to guide the writing process. Completing the code template and writeup template will cover all of the [rubric points](https://review.udacity.com/#!/rubrics/481/view) for this project.\n",
    "\n",
    "The [rubric](https://review.udacity.com/#!/rubrics/481/view) contains \"Stand Out Suggestions\" for enhancing the project beyond the minimum requirements. The stand out suggestions are optional. If you decide to pursue the \"stand out suggestions\", you can include the code in this Ipython notebook and also discuss the results in the writeup file.\n",
    "\n",
    "\n",
    ">**Note:** Code and Markdown cells can be executed using the **Shift + Enter** keyboard shortcut. In addition, Markdown cells can be edited by typically double-clicking the cell to enter edit mode."
   ]
  },
  {
   "cell_type": "code",
   "execution_count": 1,
   "metadata": {},
   "outputs": [],
   "source": [
    "# Load pickled data\n",
    "import pickle\n",
    "\n",
    "# TODO: Fill this in based on where you saved the training and testing data\n",
    "\n",
    "training_file = '../data/traffic-signs-data/train.p'\n",
    "validation_file='../data/traffic-signs-data/valid.p'\n",
    "testing_file =  '../data/traffic-signs-data/test.p'\n",
    "\n",
    "with open(training_file, mode='rb') as f:\n",
    "    train = pickle.load(f)\n",
    "with open(validation_file, mode='rb') as f:\n",
    "    valid = pickle.load(f)\n",
    "with open(testing_file, mode='rb') as f:\n",
    "    test = pickle.load(f)\n",
    "    \n",
    "X_train, y_train, coord_train = train['features'], train['labels'], train['coords']\n",
    "X_valid, y_valid = valid['features'], valid['labels']\n",
    "X_test, y_test = test['features'], test['labels']"
   ]
  },
  {
   "cell_type": "markdown",
   "metadata": {},
   "source": [
    "---\n",
    "\n",
    "## Step 1: Dataset Summary & Exploration\n",
    "\n",
    "The pickled data is a dictionary with 4 key/value pairs:\n",
    "\n",
    "- `'features'` is a 4D array containing raw pixel data of the traffic sign images, (num examples, width, height, channels).\n",
    "- `'labels'` is a 1D array containing the label/class id of the traffic sign. The file `signnames.csv` contains id -> name mappings for each id.\n",
    "- `'sizes'` is a list containing tuples, (width, height) representing the original width and height the image.\n",
    "- `'coords'` is a list containing tuples, (x1, y1, x2, y2) representing coordinates of a bounding box around the sign in the image. **THESE COORDINATES ASSUME THE ORIGINAL IMAGE. THE PICKLED DATA CONTAINS RESIZED VERSIONS (32 by 32) OF THESE IMAGES**\n",
    "\n",
    "Complete the basic data summary below. Use python, numpy and/or pandas methods to calculate the data summary rather than hard coding the results. For example, the [pandas shape method](http://pandas.pydata.org/pandas-docs/stable/generated/pandas.DataFrame.shape.html) might be useful for calculating some of the summary results. "
   ]
  },
  {
   "cell_type": "markdown",
   "metadata": {},
   "source": [
    "### Provide a Basic Summary of the Data Set Using Python, Numpy and/or Pandas"
   ]
  },
  {
   "cell_type": "code",
   "execution_count": 2,
   "metadata": {},
   "outputs": [
    {
     "name": "stdout",
     "output_type": "stream",
     "text": [
      "Number of training examples = 34799\n",
      "Number of validation examples = 4410\n",
      "Number of testing examples = 12630\n",
      "Image data shape = (32, 32, 3)\n",
      "Number of classes = 43\n",
      "0  :  180\n",
      "1  :  1980\n",
      "2  :  2010\n",
      "3  :  1260\n",
      "4  :  1770\n",
      "5  :  1650\n",
      "6  :  360\n",
      "7  :  1290\n",
      "8  :  1260\n",
      "9  :  1320\n",
      "10  :  1800\n",
      "11  :  1170\n",
      "12  :  1890\n",
      "13  :  1920\n",
      "14  :  690\n",
      "15  :  540\n",
      "16  :  360\n",
      "17  :  990\n",
      "18  :  1080\n",
      "19  :  180\n",
      "20  :  300\n",
      "21  :  270\n",
      "22  :  330\n",
      "23  :  450\n",
      "24  :  240\n",
      "25  :  1350\n",
      "26  :  540\n",
      "27  :  210\n",
      "28  :  480\n",
      "29  :  240\n",
      "30  :  390\n",
      "31  :  690\n",
      "32  :  210\n",
      "33  :  599\n",
      "34  :  360\n",
      "35  :  1080\n",
      "36  :  330\n",
      "37  :  180\n",
      "38  :  1860\n",
      "39  :  270\n",
      "40  :  300\n",
      "41  :  210\n",
      "42  :  210\n"
     ]
    }
   ],
   "source": [
    "### Replace each question mark with the appropriate value. \n",
    "### Use python, pandas or numpy methods rather than hard coding the results\n",
    "import numpy as np\n",
    "\n",
    "# TODO: Number of training examples\n",
    "n_train = X_train.shape[0]\n",
    "\n",
    "# TODO: Number of validation examples\n",
    "n_validation = X_valid.shape[0]\n",
    "\n",
    "# TODO: Number of testing examples.\n",
    "n_test = X_test.shape[0]\n",
    "\n",
    "# TODO: What's the shape of an traffic sign image?\n",
    "image_shape = X_train.shape[1:]\n",
    "\n",
    "# TODO: How many unique classes/labels there are in the dataset.\n",
    "n_classes = np.unique(y_train).shape[0]\n",
    "\n",
    "print(\"Number of training examples =\", n_train)\n",
    "print(\"Number of validation examples =\", n_validation)\n",
    "print(\"Number of testing examples =\", n_test)\n",
    "print(\"Image data shape =\", image_shape)\n",
    "print(\"Number of classes =\", n_classes)\n",
    "\n",
    "bincount = np.bincount(y_train)\n",
    "i = 0\n",
    "for bc in np.bincount(y_train):\n",
    "    print (i, ' : ', bc)\n",
    "    i = i + 1"
   ]
  },
  {
   "cell_type": "markdown",
   "metadata": {},
   "source": [
    "### Include an exploratory visualization of the dataset"
   ]
  },
  {
   "cell_type": "markdown",
   "metadata": {},
   "source": [
    "Visualize the German Traffic Signs Dataset using the pickled file(s). This is open ended, suggestions include: plotting traffic sign images, plotting the count of each sign, etc. \n",
    "\n",
    "The [Matplotlib](http://matplotlib.org/) [examples](http://matplotlib.org/examples/index.html) and [gallery](http://matplotlib.org/gallery.html) pages are a great resource for doing visualizations in Python.\n",
    "\n",
    "**NOTE:** It's recommended you start with something simple first. If you wish to do more, come back to it after you've completed the rest of the sections. It can be interesting to look at the distribution of classes in the training, validation and test set. Is the distribution the same? Are there more examples of some classes than others?"
   ]
  },
  {
   "cell_type": "code",
   "execution_count": 3,
   "metadata": {},
   "outputs": [
    {
     "data": {
      "image/png": "[encoded data removed]",
      "text/plain": [
       "<matplotlib.figure.Figure at 0x7fdba4048dd8>"
      ]
     },
     "metadata": {},
     "output_type": "display_data"
    }
   ],
   "source": [
    "### Data exploration visualization code goes here.\n",
    "### Feel free to use as many code cells as needed.\n",
    "import matplotlib.pyplot as plt\n",
    "import matplotlib.patches as patches\n",
    "# Visualizations will be shown in the notebook.\n",
    "%matplotlib inline\n",
    "\n",
    "def show_feature (setdata, idx):\n",
    "    \n",
    "    fig,ax = plt.subplots(1)\n",
    "\n",
    "    ax.imshow(setdata['features'][idx])\n",
    "\n",
    "    x1, y1, x2, y2 = setdata['coords'][idx]\n",
    "    w, h = setdata['sizes'][idx]\n",
    "\n",
    "    # scale data to original size and prepare upper left corner and width/height\n",
    "    pos = (x1/w*32, y1/h*32)\n",
    "    size= np.ceil(((x2-x1)/w*32, (y2-y1)/h*32))\n",
    "\n",
    "    # Create a Rectangle patch\n",
    "    rect = patches.Rectangle(pos, size[0], size[1], linewidth=1, edgecolor='r', facecolor='none')\n",
    "\n",
    "    # Add the patch to the Axes\n",
    "    ax.add_patch(rect)\n",
    "\n",
    "    plt.show()\n",
    "    \n",
    "show_feature (train, 99)"
   ]
  },
  {
   "cell_type": "markdown",
   "metadata": {},
   "source": [
    "----\n",
    "\n",
    "## Step 2: Design and Test a Model Architecture\n",
    "\n",
    "Design and implement a deep learning model that learns to recognize traffic signs. Train and test your model on the [German Traffic Sign Dataset](http://benchmark.ini.rub.de/?section=gtsrb&subsection=dataset).\n",
    "\n",
    "The LeNet-5 implementation shown in the [classroom](https://classroom.udacity.com/nanodegrees/nd013/parts/fbf77062-5703-404e-b60c-95b78b2f3f9e/modules/6df7ae49-c61c-4bb2-a23e-6527e69209ec/lessons/601ae704-1035-4287-8b11-e2c2716217ad/concepts/d4aca031-508f-4e0b-b493-e7b706120f81) at the end of the CNN lesson is a solid starting point. You'll have to change the number of classes and possibly the preprocessing, but aside from that it's plug and play! \n",
    "\n",
    "With the LeNet-5 solution from the lecture, you should expect a validation set accuracy of about 0.89. To meet specifications, the validation set accuracy will need to be at least 0.93. It is possible to get an even higher accuracy, but 0.93 is the minimum for a successful project submission. \n",
    "\n",
    "There are various aspects to consider when thinking about this problem:\n",
    "\n",
    "- Neural network architecture (is the network over or underfitting?)\n",
    "- Play around preprocessing techniques (normalization, rgb to grayscale, etc)\n",
    "- Number of examples per label (some have more than others).\n",
    "- Generate fake data.\n",
    "\n",
    "Here is an example of a [published baseline model on this problem](http://yann.lecun.com/exdb/publis/pdf/sermanet-ijcnn-11.pdf). It's not required to be familiar with the approach used in the paper but, it's good practice to try to read papers like these."
   ]
  },
  {
   "cell_type": "markdown",
   "metadata": {},
   "source": [
    "### Pre-process the Data Set (normalization, grayscale, etc.)"
   ]
  },
  {
   "cell_type": "markdown",
   "metadata": {},
   "source": [
    "Minimally, the image data should be normalized so that the data has mean zero and equal variance. For image data, `(pixel - 128)/ 128` is a quick way to approximately normalize the data and can be used in this project. \n",
    "\n",
    "Other pre-processing steps are optional. You can try different techniques to see if it improves performance. \n",
    "\n",
    "Use the code cell (or multiple code cells, if necessary) to implement the first step of your project."
   ]
  },
  {
   "cell_type": "code",
   "execution_count": 4,
   "metadata": {
    "collapsed": true
   },
   "outputs": [],
   "source": [
    "# preprocessing steps\n",
    "\n",
    "def grayscale (img):\n",
    "    return np.dot(img[...,:3], [0.299, 0.587, 0.114])\n",
    "\n",
    "def normalize(img):\n",
    "    return (img-128)/128\n",
    "\n",
    "def blackout(img, coords):\n",
    "    img[0:coords[0],:] = 0\n",
    "    img[coords[2]:,:] = 0\n",
    "    img[:,0:coords[1]] = 0\n",
    "    img[:,coords[3]:] = 0\n",
    "    return img"
   ]
  },
  {
   "cell_type": "code",
   "execution_count": 5,
   "metadata": {
    "collapsed": true
   },
   "outputs": [],
   "source": [
    "# proprocessing data set\n",
    "import cv2\n",
    "\n",
    "def preproc (setdata):\n",
    "    setdata_norm =  np.empty((setdata.shape[0], 32, 32))\n",
    "\n",
    "    for i in range(setdata.shape[0]):\n",
    "        setdata_norm[i] = normalize(grayscale(setdata[i]))\n",
    "\n",
    "    return np.expand_dims (setdata_norm, axis=3)\n",
    "\n",
    "def preproc_blackout (setdata, coords):\n",
    "    setdata_norm =  np.empty((setdata.shape[0], 32, 32))\n",
    "\n",
    "    for i in range(setdata.shape[0]):\n",
    "        img = setdata[i]\n",
    "        img = blackout(img, coords[i])\n",
    "        setdata_norm[i] = normalize(grayscale(img))\n",
    "\n",
    "    return np.expand_dims (setdata_norm, axis=3)\n",
    "\n",
    "def preproc_color (setdata):\n",
    "    setdata_norm =  np.empty((setdata.shape[0], 32, 32, 3))\n",
    "\n",
    "    for i in range(setdata.shape[0]):\n",
    "        setdata_norm[i] = normalize(setdata[i])\n",
    "\n",
    "    return setdata_norm\n",
    "\n",
    "def preproc2 (setdata):\n",
    "    setdata_norm =  np.empty((setdata.shape[0]*2, 32, 32))\n",
    "\n",
    "    for i in range(setdata.shape[0]):\n",
    "        setdata_norm[i*2] = normalize(grayscale(setdata[i]))\n",
    "        setdata_norm[i*2+1] = normalize(grayscale(cv2.blur(setdata[i], (3,3))))\n",
    "\n",
    "    return np.expand_dims (setdata_norm, axis=3)"
   ]
  },
  {
   "cell_type": "code",
   "execution_count": 6,
   "metadata": {},
   "outputs": [
    {
     "name": "stdout",
     "output_type": "stream",
     "text": [
      "(34799, 32, 32, 1)\n",
      "(34799,)\n",
      "(4410, 32, 32, 1)\n",
      "(12630, 32, 32, 1)\n"
     ]
    }
   ],
   "source": [
    "### Preprocess the data here. It is required to normalize the data. Other preprocessing steps could include \n",
    "### converting to grayscale, etc.\n",
    "### Feel free to use as many code cells as needed.\n",
    "\n",
    "# normalize train set\n",
    "X_train_norm = preproc (X_train)\n",
    "#y_train = np.repeat(y_train, 2)\n",
    "#X_train_norm = preproc_blackout (X_train, coord_train)\n",
    "print (X_train_norm.shape)\n",
    "print (y_train.shape)\n",
    "\n",
    "# normalize validation set\n",
    "X_valid_norm = preproc (X_valid)\n",
    "print (X_valid_norm.shape)\n",
    "\n",
    "# normalize test set\n",
    "X_test_norm = preproc (X_test)\n",
    "print (X_test_norm.shape)"
   ]
  },
  {
   "cell_type": "markdown",
   "metadata": {},
   "source": [
    "### Model Architecture"
   ]
  },
  {
   "cell_type": "code",
   "execution_count": 7,
   "metadata": {
    "collapsed": true
   },
   "outputs": [],
   "source": [
    "### Define your architecture here.\n",
    "### Feel free to use as many code cells as needed.\n",
    "from tensorflow.contrib.layers import flatten\n",
    "\n",
    "\n",
    "def LeNet(x):    \n",
    "    # Arguments used for tf.truncated_normal, randomly defines variables for the weights and biases for each layer\n",
    "    mu = 0\n",
    "    sigma = 0.1\n",
    "    \n",
    "    # SOLUTION: Layer 1: Convolutional. Input = 32x32x1. Output = 28x28x6.\n",
    "    conv1_W = tf.Variable(tf.truncated_normal(shape=(5, 5, 1, 6), mean = mu, stddev = sigma))\n",
    "    conv1_b = tf.Variable(tf.zeros(6))\n",
    "    conv1   = tf.nn.conv2d(x, conv1_W, strides=[1, 1, 1, 1], padding='VALID') + conv1_b\n",
    "\n",
    "    # SOLUTION: Activation.\n",
    "    conv1 = tf.nn.relu(conv1)\n",
    "\n",
    "    # SOLUTION: Pooling. Input = 28x28x6. Output = 14x14x6.\n",
    "    conv1 = tf.nn.max_pool(conv1, ksize=[1, 2, 2, 1], strides=[1, 2, 2, 1], padding='VALID')\n",
    "\n",
    "    # SOLUTION: Layer 2: Convolutional. Output = 10x10x16.\n",
    "    conv2_W = tf.Variable(tf.truncated_normal(shape=(5, 5, 6, 16), mean = mu, stddev = sigma))\n",
    "    conv2_b = tf.Variable(tf.zeros(16))\n",
    "    conv2   = tf.nn.conv2d(conv1, conv2_W, strides=[1, 1, 1, 1], padding='VALID') + conv2_b\n",
    "    \n",
    "    # SOLUTION: Activation.\n",
    "    conv2 = tf.nn.relu(conv2)\n",
    "\n",
    "    # SOLUTION: Pooling. Input = 10x10x16. Output = 5x5x16.\n",
    "    conv2 = tf.nn.max_pool(conv2, ksize=[1, 2, 2, 1], strides=[1, 2, 2, 1], padding='VALID')\n",
    "\n",
    "    # SOLUTION: Flatten. Input = 5x5x16. Output = 400.\n",
    "    fc0   = flatten(conv2)\n",
    "    \n",
    "    # SOLUTION: Layer 3: Fully Connected. Input = 400. Output = 120.\n",
    "    fc1_W = tf.Variable(tf.truncated_normal(shape=(400, 120), mean = mu, stddev = sigma))\n",
    "    fc1_b = tf.Variable(tf.zeros(120))\n",
    "    fc1   = tf.matmul(fc0, fc1_W) + fc1_b\n",
    "    \n",
    "    # SOLUTION: Activation.\n",
    "    fc1    = tf.nn.relu(fc1)\n",
    "    \n",
    "    #fc1 = tf.nn.dropout(fc1, 0.5)\n",
    "\n",
    "    # SOLUTION: Layer 4: Fully Connected. Input = 120. Output = 84.\n",
    "    fc2_W  = tf.Variable(tf.truncated_normal(shape=(120, 84), mean = mu, stddev = sigma))\n",
    "    fc2_b  = tf.Variable(tf.zeros(84))\n",
    "    fc2    = tf.matmul(fc1, fc2_W) + fc2_b\n",
    "    \n",
    "    # SOLUTION: Activation.\n",
    "    fc2    = tf.nn.relu(fc2)\n",
    "\n",
    "    # SOLUTION: Layer 5: Fully Connected. Input = 84. Output = 10.\n",
    "    fc3_W  = tf.Variable(tf.truncated_normal(shape=(84, n_classes), mean = mu, stddev = sigma))\n",
    "    fc3_b  = tf.Variable(tf.zeros(n_classes))\n",
    "    logits = tf.matmul(fc2, fc3_W) + fc3_b\n",
    "    \n",
    "    return logits"
   ]
  },
  {
   "cell_type": "markdown",
   "metadata": {},
   "source": [
    "### Train, Validate and Test the Model"
   ]
  },
  {
   "cell_type": "markdown",
   "metadata": {},
   "source": [
    "A validation set can be used to assess how well the model is performing. A low accuracy on the training and validation\n",
    "sets imply underfitting. A high accuracy on the training set but low accuracy on the validation set implies overfitting."
   ]
  },
  {
   "cell_type": "code",
   "execution_count": 8,
   "metadata": {
    "collapsed": true
   },
   "outputs": [],
   "source": [
    "import tensorflow as tf\n",
    "\n",
    "EPOCHS = 30\n",
    "BATCH_SIZE = 128\n",
    "rate = 0.001\n",
    "\n",
    "x = tf.placeholder(tf.float32, (None, 32, 32, 1))\n",
    "y = tf.placeholder(tf.int32, (None))\n",
    "one_hot_y = tf.one_hot(y, n_classes)\n",
    "\n",
    "logits = LeNet(x)\n",
    "cross_entropy = tf.nn.softmax_cross_entropy_with_logits(labels=one_hot_y, logits=logits)\n",
    "loss_operation = tf.reduce_mean(cross_entropy)\n",
    "optimizer = tf.train.AdamOptimizer(learning_rate = rate)\n",
    "training_operation = optimizer.minimize(loss_operation)"
   ]
  },
  {
   "cell_type": "code",
   "execution_count": 9,
   "metadata": {
    "collapsed": true
   },
   "outputs": [],
   "source": [
    "correct_prediction = tf.equal(tf.argmax(logits, 1), tf.argmax(one_hot_y, 1))\n",
    "accuracy_operation = tf.reduce_mean(tf.cast(correct_prediction, tf.float32))\n",
    "saver = tf.train.Saver()\n",
    "\n",
    "def evaluate(X_data, y_data):\n",
    "    num_examples = len(X_data)\n",
    "    total_accuracy = 0\n",
    "    sess = tf.get_default_session()\n",
    "    for offset in range(0, num_examples, BATCH_SIZE):\n",
    "        batch_x, batch_y = X_data[offset:offset+BATCH_SIZE], y_data[offset:offset+BATCH_SIZE]\n",
    "        accuracy = sess.run(accuracy_operation, feed_dict={x: batch_x, y: batch_y})\n",
    "        total_accuracy += (accuracy * len(batch_x))\n",
    "    return total_accuracy / num_examples"
   ]
  },
  {
   "cell_type": "code",
   "execution_count": 10,
   "metadata": {
    "collapsed": true
   },
   "outputs": [],
   "source": [
    "# shuffle and equalize trainings set\n",
    "from sklearn.utils import shuffle\n",
    "SAMPLES_PER_CLASS = 2000\n",
    "\n",
    "def shuffle_and_equilize (X, y):\n",
    "    \n",
    "    # shuffle at start\n",
    "    X, y = shuffle(X, y)\n",
    "    \n",
    "    # fill up a class\n",
    "    reached = np.zeros(n_classes)\n",
    "    \n",
    "    sample_cnt = n_classes*SAMPLES_PER_CLASS\n",
    "    X_equal = np.zeros((sample_cnt, 32, 32, 1))\n",
    "    y_equal = np.zeros((sample_cnt), dtype='int8')\n",
    "    \n",
    "    while np.sum(reached)<sample_cnt:\n",
    "        for (X_sample, y_sample) in zip(X, y):\n",
    "            if (reached[y_sample]<SAMPLES_PER_CLASS):\n",
    "                #import pdb; pdb.set_trace()\n",
    "                i = np.sum(reached, dtype='int64')\n",
    "                X_equal[i] = X_sample\n",
    "                y_equal[i] = y_sample\n",
    "                reached[y_sample] = reached[y_sample] + 1\n",
    "    \n",
    "    print(X_equal.shape)\n",
    "    print(y_equal.shape)\n",
    "    return (X_equal,y_equal)\n",
    "    \n",
    "\n",
    "#X, y = shuffle_and_equilize (X_train, y_train)\n",
    "\n",
    "#import pdb; pdb.set_trace()\n",
    "#print ('x size: ' + X.shape[0])\n",
    "#i = 0\n",
    "#for bc in np.bincount(y):\n",
    "#    print (i, ' : ', bc)\n",
    "#    i = i + 1"
   ]
  },
  {
   "cell_type": "code",
   "execution_count": 11,
   "metadata": {},
   "outputs": [
    {
     "name": "stdout",
     "output_type": "stream",
     "text": [
      "Training...\n",
      "\n",
      "(86000, 32, 32, 1)\n",
      "(86000,)\n",
      "EPOCH 1 ...\n",
      "Train Accuracy = 0.754\n",
      "Validation Accuracy = 0.731\n",
      "\n",
      "(86000, 32, 32, 1)\n",
      "(86000,)\n",
      "EPOCH 2 ...\n",
      "Train Accuracy = 0.537\n",
      "Validation Accuracy = 0.310\n",
      "\n",
      "(86000, 32, 32, 1)\n",
      "(86000,)\n",
      "EPOCH 3 ...\n",
      "Train Accuracy = 0.769\n",
      "Validation Accuracy = 0.572\n",
      "\n",
      "(86000, 32, 32, 1)\n",
      "(86000,)\n",
      "EPOCH 4 ...\n",
      "Train Accuracy = 0.887\n",
      "Validation Accuracy = 0.725\n",
      "\n",
      "(86000, 32, 32, 1)\n",
      "(86000,)\n",
      "EPOCH 5 ...\n",
      "Train Accuracy = 0.935\n",
      "Validation Accuracy = 0.807\n",
      "\n",
      "(86000, 32, 32, 1)\n",
      "(86000,)\n",
      "EPOCH 6 ...\n",
      "Train Accuracy = 0.954\n",
      "Validation Accuracy = 0.848\n",
      "\n",
      "(86000, 32, 32, 1)\n",
      "(86000,)\n",
      "EPOCH 7 ...\n",
      "Train Accuracy = 0.977\n",
      "Validation Accuracy = 0.870\n",
      "\n",
      "(86000, 32, 32, 1)\n",
      "(86000,)\n",
      "EPOCH 8 ...\n",
      "Train Accuracy = 0.986\n",
      "Validation Accuracy = 0.886\n",
      "\n",
      "(86000, 32, 32, 1)\n",
      "(86000,)\n",
      "EPOCH 9 ...\n",
      "Train Accuracy = 0.973\n",
      "Validation Accuracy = 0.863\n",
      "\n",
      "(86000, 32, 32, 1)\n",
      "(86000,)\n",
      "EPOCH 10 ...\n",
      "Train Accuracy = 0.990\n",
      "Validation Accuracy = 0.906\n",
      "\n",
      "(86000, 32, 32, 1)\n",
      "(86000,)\n",
      "EPOCH 11 ...\n",
      "Train Accuracy = 0.994\n",
      "Validation Accuracy = 0.920\n",
      "\n",
      "(86000, 32, 32, 1)\n",
      "(86000,)\n",
      "EPOCH 12 ...\n",
      "Train Accuracy = 0.986\n",
      "Validation Accuracy = 0.891\n",
      "\n",
      "(86000, 32, 32, 1)\n",
      "(86000,)\n",
      "EPOCH 13 ...\n",
      "Train Accuracy = 0.991\n",
      "Validation Accuracy = 0.907\n",
      "\n",
      "(86000, 32, 32, 1)\n",
      "(86000,)\n",
      "EPOCH 14 ...\n",
      "Train Accuracy = 0.997\n",
      "Validation Accuracy = 0.921\n",
      "\n",
      "(86000, 32, 32, 1)\n",
      "(86000,)\n",
      "EPOCH 15 ...\n",
      "Train Accuracy = 0.998\n",
      "Validation Accuracy = 0.926\n",
      "\n",
      "(86000, 32, 32, 1)\n",
      "(86000,)\n",
      "EPOCH 16 ...\n",
      "Train Accuracy = 0.998\n",
      "Validation Accuracy = 0.921\n",
      "\n",
      "(86000, 32, 32, 1)\n",
      "(86000,)\n",
      "EPOCH 17 ...\n",
      "Train Accuracy = 0.998\n",
      "Validation Accuracy = 0.923\n",
      "\n",
      "(86000, 32, 32, 1)\n",
      "(86000,)\n",
      "EPOCH 18 ...\n",
      "Train Accuracy = 0.998\n",
      "Validation Accuracy = 0.936\n",
      "\n",
      "(86000, 32, 32, 1)\n",
      "(86000,)\n",
      "EPOCH 19 ...\n",
      "Train Accuracy = 0.997\n",
      "Validation Accuracy = 0.919\n",
      "\n",
      "(86000, 32, 32, 1)\n",
      "(86000,)\n",
      "EPOCH 20 ...\n",
      "Train Accuracy = 0.999\n",
      "Validation Accuracy = 0.925\n",
      "\n",
      "(86000, 32, 32, 1)\n",
      "(86000,)\n",
      "EPOCH 21 ...\n",
      "Train Accuracy = 0.987\n",
      "Validation Accuracy = 0.898\n",
      "\n",
      "Lower learning rate\n",
      "(86000, 32, 32, 1)\n",
      "(86000,)\n",
      "EPOCH 22 ...\n",
      "Train Accuracy = 0.998\n",
      "Validation Accuracy = 0.928\n",
      "\n",
      "Lower learning rate\n",
      "(86000, 32, 32, 1)\n",
      "(86000,)\n",
      "EPOCH 23 ...\n",
      "Train Accuracy = 0.998\n",
      "Validation Accuracy = 0.934\n",
      "\n",
      "Lower learning rate\n",
      "(86000, 32, 32, 1)\n",
      "(86000,)\n",
      "EPOCH 24 ...\n",
      "Train Accuracy = 0.996\n",
      "Validation Accuracy = 0.922\n",
      "\n",
      "Lower learning rate\n",
      "(86000, 32, 32, 1)\n",
      "(86000,)\n",
      "EPOCH 25 ...\n",
      "Train Accuracy = 0.997\n",
      "Validation Accuracy = 0.926\n",
      "\n",
      "Lower learning rate\n",
      "(86000, 32, 32, 1)\n",
      "(86000,)\n",
      "EPOCH 26 ...\n",
      "Train Accuracy = 1.000\n",
      "Validation Accuracy = 0.937\n",
      "\n",
      "Lower learning rate\n",
      "(86000, 32, 32, 1)\n",
      "(86000,)\n",
      "EPOCH 27 ...\n",
      "Train Accuracy = 0.970\n",
      "Validation Accuracy = 0.879\n",
      "\n",
      "Lower learning rate\n",
      "(86000, 32, 32, 1)\n",
      "(86000,)\n",
      "EPOCH 28 ...\n",
      "Train Accuracy = 0.997\n",
      "Validation Accuracy = 0.924\n",
      "\n",
      "Lower learning rate\n",
      "(86000, 32, 32, 1)\n",
      "(86000,)\n",
      "EPOCH 29 ...\n",
      "Train Accuracy = 0.999\n",
      "Validation Accuracy = 0.935\n",
      "\n",
      "Lower learning rate\n",
      "(86000, 32, 32, 1)\n",
      "(86000,)\n",
      "EPOCH 30 ...\n",
      "Train Accuracy = 0.987\n",
      "Validation Accuracy = 0.896\n",
      "\n",
      "Model saved\n"
     ]
    }
   ],
   "source": [
    "### Train your model here.\n",
    "### Calculate and report the accuracy on the training and validation set.\n",
    "### Once a final model architecture is selected, \n",
    "### the accuracy on the test set should be calculated and reported as well.\n",
    "### Feel free to use as many code cells as needed.\n",
    "from sklearn.utils import shuffle\n",
    "\n",
    "with tf.Session() as sess:\n",
    "    sess.run(tf.global_variables_initializer())\n",
    "    num_examples = len(X_train_norm)\n",
    "    \n",
    "    print(\"Training...\")\n",
    "    print()\n",
    "    for i in range(EPOCHS):\n",
    "        \n",
    "        if i>20:\n",
    "            print (\"Lower learning rate\")\n",
    "            rate = 0.0005\n",
    "            \n",
    "        X_train_norm_, y_train_ = shuffle_and_equilize(X_train_norm, y_train)\n",
    "        #num_examples = len(X_train_norm)\n",
    "        for offset in range(0, num_examples, BATCH_SIZE):\n",
    "            end = offset + BATCH_SIZE\n",
    "            num_examples = len(X_train_norm_)\n",
    "            #import pdb; pdb.set_trace()\n",
    "            batch_x, batch_y = X_train_norm_[offset:end], y_train_[offset:end]\n",
    "            sess.run(training_operation, feed_dict={x: batch_x, y: batch_y})\n",
    "        \n",
    "        train_accuracy = evaluate(X_train_norm_, y_train_)\n",
    "        validation_accuracy = evaluate(X_valid_norm, y_valid)\n",
    "        print(\"EPOCH {} ...\".format(i+1))\n",
    "        print(\"Train Accuracy = {:.3f}\".format(train_accuracy))\n",
    "        print(\"Validation Accuracy = {:.3f}\".format(validation_accuracy))\n",
    "        print()\n",
    "        \n",
    "    saver.save(sess, './lenet')\n",
    "    print(\"Model saved\")"
   ]
  },
  {
   "cell_type": "code",
   "execution_count": 18,
   "metadata": {},
   "outputs": [
    {
     "name": "stdout",
     "output_type": "stream",
     "text": [
      "Test Accuracy = 0.880\n"
     ]
    }
   ],
   "source": [
    "with tf.Session() as sess:\n",
    "    saver.restore(sess, tf.train.latest_checkpoint('.'))\n",
    "\n",
    "    test_accuracy = evaluate(X_test_norm, y_test)\n",
    "    print(\"Test Accuracy = {:.3f}\".format(test_accuracy))"
   ]
  },
  {
   "cell_type": "markdown",
   "metadata": {},
   "source": [
    "---\n",
    "\n",
    "## Step 3: Test a Model on New Images\n",
    "\n",
    "To give yourself more insight into how your model is working, download at least five pictures of German traffic signs from the web and use your model to predict the traffic sign type.\n",
    "\n",
    "You may find `signnames.csv` useful as it contains mappings from the class id (integer) to the actual sign name."
   ]
  },
  {
   "cell_type": "markdown",
   "metadata": {},
   "source": [
    "### Load and Output the Images"
   ]
  },
  {
   "cell_type": "code",
   "execution_count": 13,
   "metadata": {
    "collapsed": true
   },
   "outputs": [],
   "source": [
    "### Load the images and plot them here.\n",
    "### Feel free to use as many code cells as needed."
   ]
  },
  {
   "cell_type": "markdown",
   "metadata": {},
   "source": [
    "### Predict the Sign Type for Each Image"
   ]
  },
  {
   "cell_type": "code",
   "execution_count": 14,
   "metadata": {
    "collapsed": true
   },
   "outputs": [],
   "source": [
    "### Run the predictions here and use the model to output the prediction for each image.\n",
    "### Make sure to pre-process the images with the same pre-processing pipeline used earlier.\n",
    "### Feel free to use as many code cells as needed."
   ]
  },
  {
   "cell_type": "markdown",
   "metadata": {},
   "source": [
    "### Analyze Performance"
   ]
  },
  {
   "cell_type": "code",
   "execution_count": 15,
   "metadata": {
    "collapsed": true
   },
   "outputs": [],
   "source": [
    "### Calculate the accuracy for these 5 new images. \n",
    "### For example, if the model predicted 1 out of 5 signs correctly, it's 20% accurate on these new images."
   ]
  },
  {
   "cell_type": "markdown",
   "metadata": {},
   "source": [
    "### Output Top 5 Softmax Probabilities For Each Image Found on the Web"
   ]
  },
  {
   "cell_type": "markdown",
   "metadata": {},
   "source": [
    "For each of the new images, print out the model's softmax probabilities to show the **certainty** of the model's predictions (limit the output to the top 5 probabilities for each image). [`tf.nn.top_k`](https://www.tensorflow.org/versions/r0.12/api_docs/python/nn.html#top_k) could prove helpful here. \n",
    "\n",
    "The example below demonstrates how tf.nn.top_k can be used to find the top k predictions for each image.\n",
    "\n",
    "`tf.nn.top_k` will return the values and indices (class ids) of the top k predictions. So if k=3, for each sign, it'll return the 3 largest probabilities (out of a possible 43) and the correspoding class ids.\n",
    "\n",
    "Take this numpy array as an example. The values in the array represent predictions. The array contains softmax probabilities for five candidate images with six possible classes. `tf.nn.top_k` is used to choose the three classes with the highest probability:\n",
    "\n",
    "```\n",
    "# (5, 6) array\n",
    "a = np.array([[ 0.24879643,  0.07032244,  0.12641572,  0.34763842,  0.07893497,\n",
    "         0.12789202],\n",
    "       [ 0.28086119,  0.27569815,  0.08594638,  0.0178669 ,  0.18063401,\n",
    "         0.15899337],\n",
    "       [ 0.26076848,  0.23664738,  0.08020603,  0.07001922,  0.1134371 ,\n",
    "         0.23892179],\n",
    "       [ 0.11943333,  0.29198961,  0.02605103,  0.26234032,  0.1351348 ,\n",
    "         0.16505091],\n",
    "       [ 0.09561176,  0.34396535,  0.0643941 ,  0.16240774,  0.24206137,\n",
    "         0.09155967]])\n",
    "```\n",
    "\n",
    "Running it through `sess.run(tf.nn.top_k(tf.constant(a), k=3))` produces:\n",
    "\n",
    "```\n",
    "TopKV2(values=array([[ 0.34763842,  0.24879643,  0.12789202],\n",
    "       [ 0.28086119,  0.27569815,  0.18063401],\n",
    "       [ 0.26076848,  0.23892179,  0.23664738],\n",
    "       [ 0.29198961,  0.26234032,  0.16505091],\n",
    "       [ 0.34396535,  0.24206137,  0.16240774]]), indices=array([[3, 0, 5],\n",
    "       [0, 1, 4],\n",
    "       [0, 5, 1],\n",
    "       [1, 3, 5],\n",
    "       [1, 4, 3]], dtype=int32))\n",
    "```\n",
    "\n",
    "Looking just at the first row we get `[ 0.34763842,  0.24879643,  0.12789202]`, you can confirm these are the 3 largest probabilities in `a`. You'll also notice `[3, 0, 5]` are the corresponding indices."
   ]
  },
  {
   "cell_type": "code",
   "execution_count": 16,
   "metadata": {
    "collapsed": true
   },
   "outputs": [],
   "source": [
    "### Print out the top five softmax probabilities for the predictions on the German traffic sign images found on the web. \n",
    "### Feel free to use as many code cells as needed."
   ]
  },
  {
   "cell_type": "markdown",
   "metadata": {},
   "source": [
    "### Project Writeup\n",
    "\n",
    "Once you have completed the code implementation, document your results in a project writeup using this [template](https://github.com/udacity/CarND-Traffic-Sign-Classifier-Project/blob/master/writeup_template.md) as a guide. The writeup can be in a markdown or pdf file. "
   ]
  },
  {
   "cell_type": "markdown",
   "metadata": {},
   "source": [
    "> **Note**: Once you have completed all of the code implementations and successfully answered each question above, you may finalize your work by exporting the iPython Notebook as an HTML document. You can do this by using the menu above and navigating to  \\n\",\n",
    "    \"**File -> Download as -> HTML (.html)**. Include the finished document along with this notebook as your submission."
   ]
  },
  {
   "cell_type": "markdown",
   "metadata": {},
   "source": [
    "---\n",
    "\n",
    "## Step 4 (Optional): Visualize the Neural Network's State with Test Images\n",
    "\n",
    " This Section is not required to complete but acts as an additional excersise for understaning the output of a neural network's weights. While neural networks can be a great learning device they are often referred to as a black box. We can understand what the weights of a neural network look like better by plotting their feature maps. After successfully training your neural network you can see what it's feature maps look like by plotting the output of the network's weight layers in response to a test stimuli image. From these plotted feature maps, it's possible to see what characteristics of an image the network finds interesting. For a sign, maybe the inner network feature maps react with high activation to the sign's boundary outline or to the contrast in the sign's painted symbol.\n",
    "\n",
    " Provided for you below is the function code that allows you to get the visualization output of any tensorflow weight layer you want. The inputs to the function should be a stimuli image, one used during training or a new one you provided, and then the tensorflow variable name that represents the layer's state during the training process, for instance if you wanted to see what the [LeNet lab's](https://classroom.udacity.com/nanodegrees/nd013/parts/fbf77062-5703-404e-b60c-95b78b2f3f9e/modules/6df7ae49-c61c-4bb2-a23e-6527e69209ec/lessons/601ae704-1035-4287-8b11-e2c2716217ad/concepts/d4aca031-508f-4e0b-b493-e7b706120f81) feature maps looked like for it's second convolutional layer you could enter conv2 as the tf_activation variable.\n",
    "\n",
    "For an example of what feature map outputs look like, check out NVIDIA's results in their paper [End-to-End Deep Learning for Self-Driving Cars](https://devblogs.nvidia.com/parallelforall/deep-learning-self-driving-cars/) in the section Visualization of internal CNN State. NVIDIA was able to show that their network's inner weights had high activations to road boundary lines by comparing feature maps from an image with a clear path to one without. Try experimenting with a similar test to show that your trained network's weights are looking for interesting features, whether it's looking at differences in feature maps from images with or without a sign, or even what feature maps look like in a trained network vs a completely untrained one on the same sign image.\n",
    "\n",
    "<figure>\n",
    " <img src=\"visualize_cnn.png\" width=\"380\" alt=\"Combined Image\" />\n",
    " <figcaption>\n",
    " <p></p> \n",
    " <p style=\"text-align: center;\"> Your output should look something like this (above)</p> \n",
    " </figcaption>\n",
    "</figure>\n",
    " <p></p> \n"
   ]
  },
  {
   "cell_type": "code",
   "execution_count": 17,
   "metadata": {
    "collapsed": true
   },
   "outputs": [],
   "source": [
    "### Visualize your network's feature maps here.\n",
    "### Feel free to use as many code cells as needed.\n",
    "\n",
    "# image_input: the test image being fed into the network to produce the feature maps\n",
    "# tf_activation: should be a tf variable name used during your training procedure that represents the calculated state of a specific weight layer\n",
    "# activation_min/max: can be used to view the activation contrast in more detail, by default matplot sets min and max to the actual min and max values of the output\n",
    "# plt_num: used to plot out multiple different weight feature map sets on the same block, just extend the plt number for each new feature map entry\n",
    "\n",
    "def outputFeatureMap(image_input, tf_activation, activation_min=-1, activation_max=-1 ,plt_num=1):\n",
    "    # Here make sure to preprocess your image_input in a way your network expects\n",
    "    # with size, normalization, ect if needed\n",
    "    # image_input =\n",
    "    # Note: x should be the same name as your network's tensorflow data placeholder variable\n",
    "    # If you get an error tf_activation is not defined it may be having trouble accessing the variable from inside a function\n",
    "    activation = tf_activation.eval(session=sess,feed_dict={x : image_input})\n",
    "    featuremaps = activation.shape[3]\n",
    "    plt.figure(plt_num, figsize=(15,15))\n",
    "    for featuremap in range(featuremaps):\n",
    "        plt.subplot(6,8, featuremap+1) # sets the number of feature maps to show on each row and column\n",
    "        plt.title('FeatureMap ' + str(featuremap)) # displays the feature map number\n",
    "        if activation_min != -1 & activation_max != -1:\n",
    "            plt.imshow(activation[0,:,:, featuremap], interpolation=\"nearest\", vmin =activation_min, vmax=activation_max, cmap=\"gray\")\n",
    "        elif activation_max != -1:\n",
    "            plt.imshow(activation[0,:,:, featuremap], interpolation=\"nearest\", vmax=activation_max, cmap=\"gray\")\n",
    "        elif activation_min !=-1:\n",
    "            plt.imshow(activation[0,:,:, featuremap], interpolation=\"nearest\", vmin=activation_min, cmap=\"gray\")\n",
    "        else:\n",
    "            plt.imshow(activation[0,:,:, featuremap], interpolation=\"nearest\", cmap=\"gray\")"
   ]
  }
 ],
 "metadata": {
  "anaconda-cloud": {},
  "kernelspec": {
   "display_name": "Python 3",
   "language": "python",
   "name": "python3"
  },
  "language_info": {
   "codemirror_mode": {
    "name": "ipython",
    "version": 3
   },
   "file_extension": ".py",
   "mimetype": "text/x-python",
   "name": "python",
   "nbconvert_exporter": "python",
   "pygments_lexer": "ipython3",
   "version": "3.5.2"
  },
  "widgets": {
   "state": {},
   "version": "1.1.2"
  }
 },
 "nbformat": 4,
 "nbformat_minor": 1
}
